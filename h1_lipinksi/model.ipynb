{
 "cells": [
  {
   "cell_type": "code",
   "execution_count": 37,
   "metadata": {},
   "outputs": [],
   "source": [
    "import torch\n",
    "from torch.utils.data import Dataset\n",
    "from torch.utils.data import DataLoader\n",
    "import pandas as pd\n",
    "from torch.utils.data import random_split"
   ]
  },
  {
   "cell_type": "markdown",
   "metadata": {},
   "source": [
    "# Creating a Custom Dataset "
   ]
  },
  {
   "cell_type": "code",
   "execution_count": 38,
   "metadata": {},
   "outputs": [],
   "source": [
    "## Define a class for the dataset\n",
    "\n",
    "class MoleculeDataset(Dataset):\n",
    "    def __init__(self, dataframe, features, target):\n",
    "        self.dataframe = dataframe\n",
    "        self.features = features\n",
    "        self.target = target\n",
    "\n",
    "    def __len__(self):\n",
    "        return len(self.dataframe)\n",
    "\n",
    "    def __getitem__(self, index):\n",
    "        row = self.dataframe.iloc[index]\n",
    "        features = torch.tensor(row[self.features].values, dtype=torch.float32)\n",
    "        target = torch.tensor(row[self.target], dtype=torch.float32)\n",
    "        return features, target\n"
   ]
  },
  {
   "cell_type": "code",
   "execution_count": 39,
   "metadata": {},
   "outputs": [],
   "source": [
    "## Create a dataset\n",
    "df = pd.read_csv('./set1.csv')\n",
    "features = ['HDonors_norm', 'HAcceptors_norm', 'MolWt_norm', 'LogP_norm']\n",
    "target = 'Active'\n",
    "dataset = MoleculeDataset(df, features, target)"
   ]
  },
  {
   "cell_type": "code",
   "execution_count": 40,
   "metadata": {},
   "outputs": [],
   "source": [
    "# Split into testing and training sets\n",
    "generator1 = torch.Generator().manual_seed(42)\n",
    "test_data, training_data = random_split(dataset, [.3, .7], generator=generator1)"
   ]
  },
  {
   "cell_type": "code",
   "execution_count": 46,
   "metadata": {},
   "outputs": [
    {
     "name": "stdout",
     "output_type": "stream",
     "text": [
      "X, Features: tensor([[ 1.2623e+00,  1.3939e+00, -4.4449e-01, -2.0503e+00],\n",
      "        [ 5.6572e-01,  1.6393e-01, -4.1462e-01, -1.9575e-01],\n",
      "        [-8.2753e-01, -2.4607e-01,  2.2288e-01, -4.9018e-01],\n",
      "        [ 5.6572e-01,  1.6393e-01, -3.9164e-01, -7.0297e-01],\n",
      "        [-8.2753e-01, -2.4607e-01,  2.8261e-01,  1.0865e+00],\n",
      "        [ 5.6572e-01,  5.7392e-01, -3.0709e-03, -5.5378e-01],\n",
      "        [ 5.6572e-01,  5.7392e-01,  2.2218e-01, -1.6329e-01],\n",
      "        [-1.3091e-01, -6.5606e-01, -6.6163e-01, -1.9785e-01],\n",
      "        [ 5.6572e-01,  9.8392e-01,  1.2124e+00,  5.0344e-01],\n",
      "        [-8.2753e-01,  1.6393e-01, -8.4161e-01, -9.9788e-01],\n",
      "        [-1.3091e-01,  9.8392e-01,  1.7290e+00,  1.2450e+00],\n",
      "        [-1.3091e-01,  5.7392e-01,  1.7696e-01,  1.0148e-01],\n",
      "        [-1.3091e-01, -6.5606e-01, -5.3441e-01, -4.2121e-01],\n",
      "        [-8.2753e-01, -6.5606e-01, -7.4415e-01, -2.2083e-01],\n",
      "        [ 1.2623e+00,  5.7392e-01,  3.4147e-01, -3.5509e-01],\n",
      "        [-1.3091e-01,  1.6393e-01,  2.8247e-01,  1.1552e+00],\n",
      "        [-1.3091e-01, -2.4607e-01, -6.8402e-01, -1.7970e-01],\n",
      "        [-1.3091e-01, -1.0661e+00, -7.4317e-01,  6.8403e-01],\n",
      "        [ 5.6572e-01, -6.5606e-01, -1.8412e-03,  5.1291e-01],\n",
      "        [-1.3091e-01, -6.5606e-01,  7.3290e-01,  1.1107e+00],\n",
      "        [-1.3091e-01, -1.0661e+00, -1.2462e+00, -1.3222e+00],\n",
      "        [-1.3091e-01, -2.4607e-01,  1.9993e-01,  9.4759e-01],\n",
      "        [-1.3091e-01, -6.5606e-01, -1.3512e+00, -1.2932e+00],\n",
      "        [ 1.2623e+00, -2.4607e-01,  1.2713e-02,  3.6977e-01],\n",
      "        [-1.3091e-01, -6.5606e-01,  1.6086e+00,  3.1977e+00],\n",
      "        [-1.3091e-01, -6.5606e-01, -4.3735e-01, -1.7780e-02],\n",
      "        [-1.3091e-01, -6.5606e-01, -1.0683e-01,  4.0170e-01],\n",
      "        [ 5.6572e-01, -2.4607e-01,  3.7279e-01, -1.4062e-01],\n",
      "        [-8.2753e-01, -6.5606e-01,  5.2996e-01,  1.7566e+00],\n",
      "        [ 5.6572e-01,  5.7392e-01, -2.3460e-01, -9.3223e-01],\n",
      "        [-8.2753e-01, -2.4607e-01,  5.0713e-01,  1.4173e+00],\n",
      "        [ 5.6572e-01,  1.6393e-01, -3.6160e-01, -1.2646e+00],\n",
      "        [-8.2753e-01, -6.5606e-01,  2.8302e-01,  8.0408e-01],\n",
      "        [-8.2753e-01,  5.7392e-01,  1.0021e+00,  1.2268e+00],\n",
      "        [-8.2753e-01,  1.6393e-01,  9.8695e-01,  1.0742e+00],\n",
      "        [-1.3091e-01, -6.5606e-01,  8.0679e-02,  6.4852e-01],\n",
      "        [ 5.6572e-01,  9.8392e-01,  8.8229e-01, -2.3004e-01],\n",
      "        [-1.3091e-01, -2.4607e-01, -8.4213e-01, -3.8681e-01],\n",
      "        [-1.3091e-01,  1.6393e-01,  5.0639e-02, -2.1673e-02],\n",
      "        [ 5.6572e-01, -6.5606e-01, -5.3434e-01, -1.0221e-01],\n",
      "        [ 5.6572e-01,  9.8392e-01, -5.2701e-01, -1.9285e+00],\n",
      "        [-8.2753e-01,  1.6393e-01, -2.8844e-01,  1.0405e-01],\n",
      "        [-8.2753e-01, -6.5606e-01, -9.6115e-01, -1.5435e-01],\n",
      "        [ 5.6572e-01, -6.5606e-01, -9.1733e-02,  5.4894e-01],\n",
      "        [-1.3091e-01, -6.5606e-01, -1.9793e-01, -4.8134e-02],\n",
      "        [-8.2753e-01, -2.4607e-01,  7.6267e-01,  1.8166e+00],\n",
      "        [ 5.6572e-01,  1.6393e-01, -2.2747e-01,  1.6071e-01],\n",
      "        [-8.2753e-01, -6.5606e-01, -1.1114e+00, -5.7472e-01],\n",
      "        [ 5.6572e-01,  1.3939e+00,  9.2679e-01, -1.5750e-01],\n",
      "        [-1.3091e-01, -6.5606e-01,  4.3322e-01,  1.4698e+00],\n",
      "        [-1.3091e-01, -1.0661e+00, -5.8621e-01,  9.0982e-01],\n",
      "        [-8.2753e-01, -1.4761e+00, -7.3562e-01,  4.6162e-01],\n",
      "        [-8.2753e-01, -6.5606e-01, -6.0923e-01, -6.4847e-01],\n",
      "        [ 5.6572e-01,  9.8392e-01,  7.2327e-02, -7.3074e-01],\n",
      "        [ 1.2623e+00,  5.7392e-01,  4.0291e-01,  1.2180e+00],\n",
      "        [-8.2753e-01,  5.7392e-01,  8.7256e-01,  1.0583e+00],\n",
      "        [-8.2753e-01, -2.4607e-01,  3.5291e-02,  3.8797e-01],\n",
      "        [ 1.2623e+00,  9.8392e-01,  1.7633e-01, -1.5932e+00],\n",
      "        [-8.2753e-01, -1.0661e+00, -5.5563e-02,  8.6721e-01],\n",
      "        [-1.3091e-01, -1.0661e+00, -7.3580e-01,  6.2590e-01],\n",
      "        [ 5.6572e-01,  9.8392e-01, -2.3525e-01, -4.4710e-01],\n",
      "        [ 5.6572e-01, -6.5606e-01, -4.0655e-01,  2.5824e-01],\n",
      "        [-1.3091e-01, -2.4607e-01,  5.2274e-01,  2.7823e-01],\n",
      "        [ 5.6572e-01,  1.6393e-01,  5.9667e-01,  3.2625e-01]])\n",
      "y, Target: tensor([0., 0., 0., 0., 0., 0., 0., 0., 1., 0., 0., 0., 0., 0., 0., 1., 0., 0.,\n",
      "        1., 1., 0., 1., 0., 0., 0., 0., 1., 0., 0., 0., 0., 0., 0., 1., 1., 0.,\n",
      "        1., 0., 0., 0., 0., 0., 0., 1., 0., 1., 0., 0., 0., 1., 0., 0., 0., 0.,\n",
      "        1., 0., 0., 0., 0., 0., 0., 0., 0., 1.])\n",
      "Shape of X [N, C, H, W]: torch.Size([64, 4])\n",
      "Shape of y: torch.Size([64]) torch.float32\n"
     ]
    }
   ],
   "source": [
    "batch_size=64\n",
    "# Create data loaders\n",
    "train_dataloader = DataLoader(training_data, batch_size=batch_size)\n",
    "test_dataloader = DataLoader(test_data, batch_size=batch_size)\n",
    "\n",
    "for X, y in train_dataloader:\n",
    "    print(\"X, Features:\", X)\n",
    "    print(\"y, Target:\", y)\n",
    "    print(f\"Shape of X [N, C, H, W]: {X.shape}\")\n",
    "    print(f\"Shape of y: {y.shape} {y.dtype}\")\n",
    "    break"
   ]
  }
 ],
 "metadata": {
  "kernelspec": {
   "display_name": "my-rdkit-env",
   "language": "python",
   "name": "python3"
  },
  "language_info": {
   "codemirror_mode": {
    "name": "ipython",
    "version": 3
   },
   "file_extension": ".py",
   "mimetype": "text/x-python",
   "name": "python",
   "nbconvert_exporter": "python",
   "pygments_lexer": "ipython3",
   "version": "3.13.2"
  }
 },
 "nbformat": 4,
 "nbformat_minor": 2
}
